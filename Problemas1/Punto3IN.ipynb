{
 "cells": [
  {
   "cell_type": "code",
   "execution_count": 2,
   "metadata": {},
   "outputs": [],
   "source": [
    "import pandas as pd\n",
    "import numpy as np \n",
    "import matplotlib.pyplot as plt \n",
    "import seaborn as sns\n"
   ]
  },
  {
   "cell_type": "code",
   "execution_count": 12,
   "metadata": {},
   "outputs": [],
   "source": [
    "df=pd.read_csv(\"./amplificador.dat\",delimiter=\"\\t\") #lectura del archivo    \n",
    "\n",
    "\n",
    "voltaje=np.array(df.mV) #crear un arreglo con los datos del archivo\n",
    "\n",
    "\n",
    "#Calculamos el valor medio y la desviación estándar\n",
    "mu=np.mean(voltaje)\n",
    "sigma=np.std(voltaje)"
   ]
  },
  {
   "cell_type": "code",
   "execution_count": 14,
   "metadata": {},
   "outputs": [
    {
     "name": "stdout",
     "output_type": "stream",
     "text": [
      "Valor medio = 7501.8\n",
      "Desviación estándar = 26.7433\n"
     ]
    }
   ],
   "source": [
    "print(f\"Valor medio = {mu}\")\n",
    "print(f\"Desviación estándar = {sigma:.4f}\")"
   ]
  }
 ],
 "metadata": {
  "kernelspec": {
   "display_name": "base",
   "language": "python",
   "name": "python3"
  },
  "language_info": {
   "codemirror_mode": {
    "name": "ipython",
    "version": 3
   },
   "file_extension": ".py",
   "mimetype": "text/x-python",
   "name": "python",
   "nbconvert_exporter": "python",
   "pygments_lexer": "ipython3",
   "version": "3.10.9"
  },
  "orig_nbformat": 4
 },
 "nbformat": 4,
 "nbformat_minor": 2
}
